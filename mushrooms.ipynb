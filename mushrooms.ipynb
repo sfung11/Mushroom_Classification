{
 "cells": [
  {
   "cell_type": "code",
   "execution_count": 1,
   "metadata": {
    "collapsed": true
   },
   "outputs": [],
   "source": [
    "import pandas as pd\n",
    "import numpy as np"
   ]
  },
  {
   "cell_type": "code",
   "execution_count": 2,
   "metadata": {
    "collapsed": true
   },
   "outputs": [],
   "source": [
    "mushroom_df = pd.read_csv('https://archive.ics.uci.edu/ml/machine-learning-databases/mushroom/agaricus-lepiota.data', header=None)"
   ]
  },
  {
   "cell_type": "code",
   "execution_count": 3,
   "metadata": {
    "collapsed": true
   },
   "outputs": [],
   "source": [
    "# class is the target variable: p=poisonous, e=edible\n",
    "mushroom_df.columns = ['class', 'cap_shape', 'cap_surface', 'cap_color', 'bruises', 'odor', 'gill_attachment',\\\n",
    "                       'gill_spacing', 'gill_size', 'gill_color', 'stalk_shape', 'stalk_root',\\\n",
    "                       'stalk_surface_above_ring', 'stalk_surface_below_ring', 'stalk_color_above_ring',\\\n",
    "                       'stalk_color_below_ring', 'veil_type', 'veil_color', 'ring_number', 'ring_type',\\\n",
    "                       'spore_print_color', 'population', 'habitat']"
   ]
  },
  {
   "cell_type": "code",
   "execution_count": 4,
   "metadata": {
    "collapsed": false
   },
   "outputs": [
    {
     "data": {
      "text/plain": [
       "Index(['class', 'cap_shape', 'cap_surface', 'cap_color', 'habitat'], dtype='object')"
      ]
     },
     "execution_count": 4,
     "metadata": {},
     "output_type": "execute_result"
    }
   ],
   "source": [
    "mushroom_df2 = mushroom_df.drop(['bruises', 'odor', 'gill_attachment',\\\n",
    "                       'gill_spacing', 'gill_size', 'gill_color', 'stalk_shape', 'stalk_root',\\\n",
    "                       'stalk_surface_above_ring', 'stalk_surface_below_ring', 'stalk_color_above_ring',\\\n",
    "                       'stalk_color_below_ring', 'veil_type', 'veil_color', 'ring_number', 'ring_type',\\\n",
    "                       'spore_print_color', 'population'], axis=1, level=None, inplace=False, errors='raise')\n",
    "mushroom_df2.columns"
   ]
  },
  {
   "cell_type": "code",
   "execution_count": 5,
   "metadata": {
    "collapsed": true
   },
   "outputs": [],
   "source": [
    "# convert values class column (this is target variable) to numerical, p=1, e=0\n",
    "mushroom_df2['class'].replace(to_replace='p', value=1, inplace=True)\n",
    "mushroom_df2['class'].replace(to_replace='e', value=0, inplace=True)\n",
    "mushroom_df2.replace(to_replace='?', value=np.nan, inplace=True)"
   ]
  },
  {
   "cell_type": "code",
   "execution_count": 6,
   "metadata": {
    "collapsed": false
   },
   "outputs": [
    {
     "data": {
      "text/html": [
       "<div>\n",
       "<table border=\"1\" class=\"dataframe\">\n",
       "  <thead>\n",
       "    <tr style=\"text-align: right;\">\n",
       "      <th></th>\n",
       "      <th>class</th>\n",
       "      <th>cap_shape</th>\n",
       "      <th>cap_surface</th>\n",
       "      <th>cap_color</th>\n",
       "      <th>habitat</th>\n",
       "    </tr>\n",
       "  </thead>\n",
       "  <tbody>\n",
       "    <tr>\n",
       "      <th>0</th>\n",
       "      <td>1</td>\n",
       "      <td>x</td>\n",
       "      <td>s</td>\n",
       "      <td>n</td>\n",
       "      <td>u</td>\n",
       "    </tr>\n",
       "    <tr>\n",
       "      <th>1</th>\n",
       "      <td>0</td>\n",
       "      <td>x</td>\n",
       "      <td>s</td>\n",
       "      <td>y</td>\n",
       "      <td>g</td>\n",
       "    </tr>\n",
       "  </tbody>\n",
       "</table>\n",
       "</div>"
      ],
      "text/plain": [
       "   class cap_shape cap_surface cap_color habitat\n",
       "0      1         x           s         n       u\n",
       "1      0         x           s         y       g"
      ]
     },
     "execution_count": 6,
     "metadata": {},
     "output_type": "execute_result"
    }
   ],
   "source": [
    "mushroom_df2.head(2)"
   ]
  },
  {
   "cell_type": "code",
   "execution_count": 7,
   "metadata": {
    "collapsed": false
   },
   "outputs": [
    {
     "data": {
      "text/html": [
       "<div>\n",
       "<table border=\"1\" class=\"dataframe\">\n",
       "  <thead>\n",
       "    <tr style=\"text-align: right;\">\n",
       "      <th></th>\n",
       "      <th>class</th>\n",
       "      <th>cap_shape_b</th>\n",
       "      <th>cap_shape_c</th>\n",
       "      <th>cap_shape_f</th>\n",
       "      <th>cap_shape_k</th>\n",
       "      <th>cap_shape_s</th>\n",
       "      <th>cap_shape_x</th>\n",
       "      <th>cap_surface_f</th>\n",
       "      <th>cap_surface_g</th>\n",
       "      <th>cap_surface_s</th>\n",
       "      <th>...</th>\n",
       "      <th>cap_color_u</th>\n",
       "      <th>cap_color_w</th>\n",
       "      <th>cap_color_y</th>\n",
       "      <th>habitat_d</th>\n",
       "      <th>habitat_g</th>\n",
       "      <th>habitat_l</th>\n",
       "      <th>habitat_m</th>\n",
       "      <th>habitat_p</th>\n",
       "      <th>habitat_u</th>\n",
       "      <th>habitat_w</th>\n",
       "    </tr>\n",
       "  </thead>\n",
       "  <tbody>\n",
       "    <tr>\n",
       "      <th>5377</th>\n",
       "      <td>1</td>\n",
       "      <td>0</td>\n",
       "      <td>0</td>\n",
       "      <td>0</td>\n",
       "      <td>0</td>\n",
       "      <td>0</td>\n",
       "      <td>1</td>\n",
       "      <td>0</td>\n",
       "      <td>0</td>\n",
       "      <td>1</td>\n",
       "      <td>...</td>\n",
       "      <td>0</td>\n",
       "      <td>0</td>\n",
       "      <td>0</td>\n",
       "      <td>0</td>\n",
       "      <td>0</td>\n",
       "      <td>0</td>\n",
       "      <td>0</td>\n",
       "      <td>0</td>\n",
       "      <td>1</td>\n",
       "      <td>0</td>\n",
       "    </tr>\n",
       "    <tr>\n",
       "      <th>3622</th>\n",
       "      <td>1</td>\n",
       "      <td>0</td>\n",
       "      <td>0</td>\n",
       "      <td>0</td>\n",
       "      <td>0</td>\n",
       "      <td>0</td>\n",
       "      <td>1</td>\n",
       "      <td>1</td>\n",
       "      <td>0</td>\n",
       "      <td>0</td>\n",
       "      <td>...</td>\n",
       "      <td>0</td>\n",
       "      <td>0</td>\n",
       "      <td>0</td>\n",
       "      <td>0</td>\n",
       "      <td>0</td>\n",
       "      <td>0</td>\n",
       "      <td>0</td>\n",
       "      <td>1</td>\n",
       "      <td>0</td>\n",
       "      <td>0</td>\n",
       "    </tr>\n",
       "    <tr>\n",
       "      <th>3426</th>\n",
       "      <td>1</td>\n",
       "      <td>0</td>\n",
       "      <td>0</td>\n",
       "      <td>0</td>\n",
       "      <td>0</td>\n",
       "      <td>0</td>\n",
       "      <td>1</td>\n",
       "      <td>0</td>\n",
       "      <td>0</td>\n",
       "      <td>1</td>\n",
       "      <td>...</td>\n",
       "      <td>0</td>\n",
       "      <td>0</td>\n",
       "      <td>0</td>\n",
       "      <td>1</td>\n",
       "      <td>0</td>\n",
       "      <td>0</td>\n",
       "      <td>0</td>\n",
       "      <td>0</td>\n",
       "      <td>0</td>\n",
       "      <td>0</td>\n",
       "    </tr>\n",
       "    <tr>\n",
       "      <th>7033</th>\n",
       "      <td>0</td>\n",
       "      <td>0</td>\n",
       "      <td>0</td>\n",
       "      <td>0</td>\n",
       "      <td>1</td>\n",
       "      <td>0</td>\n",
       "      <td>0</td>\n",
       "      <td>0</td>\n",
       "      <td>0</td>\n",
       "      <td>1</td>\n",
       "      <td>...</td>\n",
       "      <td>0</td>\n",
       "      <td>0</td>\n",
       "      <td>0</td>\n",
       "      <td>0</td>\n",
       "      <td>0</td>\n",
       "      <td>1</td>\n",
       "      <td>0</td>\n",
       "      <td>0</td>\n",
       "      <td>0</td>\n",
       "      <td>0</td>\n",
       "    </tr>\n",
       "    <tr>\n",
       "      <th>3583</th>\n",
       "      <td>1</td>\n",
       "      <td>0</td>\n",
       "      <td>0</td>\n",
       "      <td>0</td>\n",
       "      <td>0</td>\n",
       "      <td>0</td>\n",
       "      <td>1</td>\n",
       "      <td>1</td>\n",
       "      <td>0</td>\n",
       "      <td>0</td>\n",
       "      <td>...</td>\n",
       "      <td>0</td>\n",
       "      <td>0</td>\n",
       "      <td>0</td>\n",
       "      <td>1</td>\n",
       "      <td>0</td>\n",
       "      <td>0</td>\n",
       "      <td>0</td>\n",
       "      <td>0</td>\n",
       "      <td>0</td>\n",
       "      <td>0</td>\n",
       "    </tr>\n",
       "  </tbody>\n",
       "</table>\n",
       "<p>5 rows × 28 columns</p>\n",
       "</div>"
      ],
      "text/plain": [
       "      class  cap_shape_b  cap_shape_c  cap_shape_f  cap_shape_k  cap_shape_s  \\\n",
       "5377      1            0            0            0            0            0   \n",
       "3622      1            0            0            0            0            0   \n",
       "3426      1            0            0            0            0            0   \n",
       "7033      0            0            0            0            1            0   \n",
       "3583      1            0            0            0            0            0   \n",
       "\n",
       "      cap_shape_x  cap_surface_f  cap_surface_g  cap_surface_s    ...      \\\n",
       "5377            1              0              0              1    ...       \n",
       "3622            1              1              0              0    ...       \n",
       "3426            1              0              0              1    ...       \n",
       "7033            0              0              0              1    ...       \n",
       "3583            1              1              0              0    ...       \n",
       "\n",
       "      cap_color_u  cap_color_w  cap_color_y  habitat_d  habitat_g  habitat_l  \\\n",
       "5377            0            0            0          0          0          0   \n",
       "3622            0            0            0          0          0          0   \n",
       "3426            0            0            0          1          0          0   \n",
       "7033            0            0            0          0          0          1   \n",
       "3583            0            0            0          1          0          0   \n",
       "\n",
       "      habitat_m  habitat_p  habitat_u  habitat_w  \n",
       "5377          0          0          1          0  \n",
       "3622          0          1          0          0  \n",
       "3426          0          0          0          0  \n",
       "7033          0          0          0          0  \n",
       "3583          0          0          0          0  \n",
       "\n",
       "[5 rows x 28 columns]"
      ]
     },
     "execution_count": 7,
     "metadata": {},
     "output_type": "execute_result"
    }
   ],
   "source": [
    "# can run get_dummies on whole dataframe as this function only encodes object or category dtype. 'class' is now int\n",
    "mushroom_df2 = pd.get_dummies(mushroom_df2)\n",
    "mushroom_df2.sample(5)"
   ]
  },
  {
   "cell_type": "code",
   "execution_count": 8,
   "metadata": {
    "collapsed": false
   },
   "outputs": [
    {
     "data": {
      "text/plain": [
       "Index(['class', 'cap_shape_b', 'cap_shape_c', 'cap_shape_f', 'cap_shape_k',\n",
       "       'cap_shape_s', 'cap_shape_x', 'cap_surface_f', 'cap_surface_g',\n",
       "       'cap_surface_s', 'cap_surface_y', 'cap_color_b', 'cap_color_c',\n",
       "       'cap_color_e', 'cap_color_g', 'cap_color_n', 'cap_color_p',\n",
       "       'cap_color_r', 'cap_color_u', 'cap_color_w', 'cap_color_y', 'habitat_d',\n",
       "       'habitat_g', 'habitat_l', 'habitat_m', 'habitat_p', 'habitat_u',\n",
       "       'habitat_w'],\n",
       "      dtype='object')"
      ]
     },
     "execution_count": 8,
     "metadata": {},
     "output_type": "execute_result"
    }
   ],
   "source": [
    "mushroom_df2.columns"
   ]
  },
  {
   "cell_type": "code",
   "execution_count": 9,
   "metadata": {
    "collapsed": false
   },
   "outputs": [],
   "source": [
    "# Model training time!\n",
    "from sklearn.model_selection import train_test_split\n",
    "\n",
    "X = mushroom_df2.iloc[: , 1:]\n",
    "y = mushroom_df2.iloc[: , :1]['class']\n",
    "X_train, X_test, y_train, y_test = train_test_split(X, y, test_size=0.3, random_state=4444)"
   ]
  },
  {
   "cell_type": "code",
   "execution_count": 10,
   "metadata": {
    "collapsed": true
   },
   "outputs": [],
   "source": [
    "from sklearn.metrics import accuracy_score\n",
    "from sklearn.model_selection import cross_val_score\n",
    "import matplotlib.pyplot as plt\n",
    "% matplotlib inline"
   ]
  },
  {
   "cell_type": "code",
   "execution_count": 11,
   "metadata": {
    "collapsed": true
   },
   "outputs": [],
   "source": [
    "from itertools import product\n",
    "from sklearn.metrics import confusion_matrix, classification_report\n",
    "from sklearn.metrics import roc_curve, roc_auc_score, average_precision_score, recall_score\n",
    "from sklearn.metrics import precision_recall_curve"
   ]
  },
  {
   "cell_type": "code",
   "execution_count": 62,
   "metadata": {
    "collapsed": true
   },
   "outputs": [],
   "source": [
    "# Recycled from Classification_Errors.ipynb\n",
    "def plot_roc(ytrue, yproba, title='ROC curves'):\n",
    "    auc = roc_auc_score(ytrue, yproba)\n",
    "    fpr, tpr, thr = roc_curve(ytrue, yproba)\n",
    "    plt.plot([0, 1], [0, 1], color='k', linestyle='--', linewidth=.4)\n",
    "    plt.plot(fpr, tpr, label='auc={:.2f}%'.format(auc*100))\n",
    "    plt.axis('equal')\n",
    "    plt.xlim([-.02, 1.02])\n",
    "    plt.ylim([-.02, 1.02])\n",
    "    plt.title(title)\n",
    "    plt.legend(loc='best')\n",
    "    plt.grid(True)"
   ]
  },
  {
   "cell_type": "code",
   "execution_count": null,
   "metadata": {
    "collapsed": true
   },
   "outputs": [],
   "source": [
    "# Taylan's code below"
   ]
  },
  {
   "cell_type": "code",
   "execution_count": 16,
   "metadata": {
    "collapsed": true
   },
   "outputs": [],
   "source": [
    "# This function returns a confusion matrix using a threshold (for categorizing a mushroom as \n",
    "# poisonous) low enough to ensure that there are no false negatives. \n",
    "\n",
    "def no_false_negs_cm(y_test, y_proba):\n",
    "    thresholds = np.unique(y_proba)\n",
    "    answer = None\n",
    "    for thr_choice in thresholds:\n",
    "        y_prediction_with_this_threshold = (y_proba >= thr_choice).astype(int)\n",
    "        cm = confusion_matrix(y_test, y_prediction_with_this_threshold)\n",
    "        false_neg_count = cm[1, 0]\n",
    "        if false_neg_count > 0:\n",
    "            break\n",
    "        answer = cm\n",
    "    return answer"
   ]
  },
  {
   "cell_type": "code",
   "execution_count": null,
   "metadata": {
    "collapsed": true
   },
   "outputs": [],
   "source": [
    "# Taylan's code above"
   ]
  },
  {
   "cell_type": "code",
   "execution_count": 17,
   "metadata": {
    "collapsed": false
   },
   "outputs": [],
   "source": [
    "# Try Random Forest model\n",
    "from sklearn.ensemble import RandomForestClassifier\n",
    "\n",
    "RC = RandomForestClassifier(n_estimators = 10, max_features = 4)\n",
    "RCfit = RC.fit(X_train, y_train)\n",
    "y_predict = RC.predict(X_test)"
   ]
  },
  {
   "cell_type": "code",
   "execution_count": 70,
   "metadata": {
    "collapsed": false
   },
   "outputs": [
    {
     "name": "stdout",
     "output_type": "stream",
     "text": [
      "0.577112387203\n",
      "Random Forest Train Score=0.846\n",
      "Random Forest Test Score =0.856\n",
      "\n",
      "Confusion Matrix, No FN:\n",
      "[[ 448  826]\n",
      " [   0 1164]]\n"
     ]
    }
   ],
   "source": [
    "# Results for Random Forest\n",
    "\n",
    "print(accuracy_score(y_test, y_predict))\n",
    "RC_train = RC.score(X_train, y_train)\n",
    "RC_test = RC.score(X_test, y_test)\n",
    "print(\"Random Forest Train Score=%.3f\\nRandom Forest Test Score =%.3f\\n\" % (RC_train, RC_test))\n",
    "\n",
    "RCprobas = RC.predict_proba(X_test)[:, 1]\n",
    "print('Confusion Matrix, No FN:')\n",
    "print(no_false_negs_cm(y_test, RCprobas))"
   ]
  },
  {
   "cell_type": "code",
   "execution_count": 43,
   "metadata": {
    "collapsed": false
   },
   "outputs": [],
   "source": [
    "# Logistic Regresssion model\n",
    "from sklearn.linear_model import LogisticRegression\n",
    "\n",
    "lf = LogisticRegression()\n",
    "lf = lf.fit(X_train, y_train)\n",
    "y_predict = lf.predict(X_test)"
   ]
  },
  {
   "cell_type": "code",
   "execution_count": 69,
   "metadata": {
    "collapsed": false
   },
   "outputs": [
    {
     "name": "stdout",
     "output_type": "stream",
     "text": [
      "0.577112387203\n",
      "Logit Train Score: 0.765388673936\n",
      "Logit Test Score: 0.769073010664\n",
      "Confusion Matrix, No FN:\n",
      "[[  17 1257]\n",
      " [   0 1164]]\n"
     ]
    }
   ],
   "source": [
    "# Results for Logistic Regresssion\n",
    "\n",
    "print(accuracy_score(y_test, y_predict))\n",
    "print('Logit Train Score:', lf.score(X_train, y_train))\n",
    "print('Logit Test Score:', lf.score(X_test, y_test))\n",
    "lfprobas = lf.predict_proba(X_test)[:, 1]\n",
    "print('Confusion Matrix, No FN:')\n",
    "print(no_false_negs_cm(y_test, lfprobas))"
   ]
  },
  {
   "cell_type": "code",
   "execution_count": 46,
   "metadata": {
    "collapsed": false
   },
   "outputs": [],
   "source": [
    "# Try other models, Gradient Boosting\n",
    "from sklearn.ensemble import GradientBoostingClassifier\n",
    "\n",
    "GB = GradientBoostingClassifier(learning_rate = 0.1, n_estimators = 400, max_features = 4, subsample = 0.25)\n",
    "GBfit = GB.fit(X_train, y_train)\n",
    "y_predict = GB.predict(X_test)"
   ]
  },
  {
   "cell_type": "code",
   "execution_count": 68,
   "metadata": {
    "collapsed": false
   },
   "outputs": [
    {
     "name": "stdout",
     "output_type": "stream",
     "text": [
      "0.577112387203\n",
      "Gradient Boost Train Score: 0.848927189588\n",
      "Gradient Boost Test Score: 0.843724364233\n",
      "Confusion Matrix, No FN:\n",
      "[[ 214 1060]\n",
      " [   0 1164]]\n"
     ]
    }
   ],
   "source": [
    "# Results for Gradient Boost\n",
    "\n",
    "print(accuracy_score(y_test, y_predict))\n",
    "print('Gradient Boost Train Score:', GB.score(X_train, y_train))\n",
    "print('Gradient Boost Test Score:', GB.score(X_test, y_test))\n",
    "GBprobas = GB.predict_proba(X_test)[:, 1]\n",
    "print('Confusion Matrix, No FN:')\n",
    "print(no_false_negs_cm(y_test, GBprobas))"
   ]
  },
  {
   "cell_type": "code",
   "execution_count": 51,
   "metadata": {
    "collapsed": false
   },
   "outputs": [
    {
     "name": "stdout",
     "output_type": "stream",
     "text": [
      "Features from Forest: Index(['cap_shape_c', 'cap_surface_g', 'cap_shape_s', 'cap_color_u',\n",
      "       'cap_color_r', 'cap_color_c', 'cap_color_b', 'habitat_m', 'cap_shape_x',\n",
      "       'cap_color_w', 'cap_shape_f', 'cap_color_g', 'cap_color_e',\n",
      "       'cap_color_p', 'habitat_w', 'cap_shape_k', 'cap_shape_b', 'habitat_l',\n",
      "       'habitat_d', 'cap_surface_y', 'habitat_u', 'habitat_g', 'cap_color_n',\n",
      "       'cap_surface_s', 'cap_surface_f', 'cap_color_y', 'habitat_p'],\n",
      "      dtype='object')\n",
      "Features from Gradient Boost Index(['cap_shape_c', 'cap_surface_g', 'cap_shape_s', 'cap_color_r',\n",
      "       'cap_color_u', 'cap_color_b', 'habitat_u', 'habitat_m', 'habitat_w',\n",
      "       'cap_shape_b', 'cap_color_p', 'cap_color_c', 'cap_shape_k',\n",
      "       'cap_color_e', 'cap_shape_f', 'habitat_l', 'cap_shape_x', 'cap_color_g',\n",
      "       'cap_color_w', 'cap_color_n', 'habitat_p', 'cap_color_y',\n",
      "       'cap_surface_y', 'habitat_g', 'cap_surface_f', 'habitat_d',\n",
      "       'cap_surface_s'],\n",
      "      dtype='object')\n"
     ]
    }
   ],
   "source": [
    "# Which features are important in Random Forest and Gradient Boost\n",
    "important_forest = X_train.columns[RC.feature_importances_.argsort()]\n",
    "important_gb = X_train.columns[GB.feature_importances_.argsort()]\n",
    "print('Features from Forest:', important_forest)\n",
    "print('Features from Gradient Boost', important_gb)"
   ]
  },
  {
   "cell_type": "code",
   "execution_count": 52,
   "metadata": {
    "collapsed": false
   },
   "outputs": [
    {
     "data": {
      "text/plain": [
       "GridSearchCV(cv=None, error_score='raise',\n",
       "       estimator=SVC(C=1.0, cache_size=200, class_weight=None, coef0=0.0,\n",
       "  decision_function_shape=None, degree=3, gamma='auto', kernel='rbf',\n",
       "  max_iter=-1, probability=False, random_state=None, shrinking=True,\n",
       "  tol=0.001, verbose=False),\n",
       "       fit_params={}, iid=True, n_jobs=1,\n",
       "       param_grid={'C': [1.0, 10.0, 100.0], 'degree': [2, 3, 4], 'kernel': ['rbf'], 'gamma': [3, 4]},\n",
       "       pre_dispatch='2*n_jobs', refit=True, return_train_score=True,\n",
       "       scoring=None, verbose=0)"
      ]
     },
     "execution_count": 52,
     "metadata": {},
     "output_type": "execute_result"
    }
   ],
   "source": [
    "# SVM w/parameter search\n",
    "from sklearn.svm import SVC\n",
    "from sklearn.model_selection import GridSearchCV\n",
    "\n",
    "param_grid = {'C': [1.0, 10., 100.],\n",
    "              'degree':[2,3,4],\n",
    "              'kernel':['rbf'],\n",
    "              'gamma':[3,4]}\n",
    "\n",
    "svm = GridSearchCV(SVC(), param_grid=param_grid)\n",
    "svm.fit(X_train, y_train)"
   ]
  },
  {
   "cell_type": "code",
   "execution_count": 54,
   "metadata": {
    "collapsed": false
   },
   "outputs": [
    {
     "name": "stdout",
     "output_type": "stream",
     "text": [
      "0.848236259229\n"
     ]
    }
   ],
   "source": [
    "# The accuracy score for SVM w/Gaussian kernal\n",
    "y_pred = svm.predict(X_test)\n",
    "print(accuracy_score(y_test, y_pred))"
   ]
  },
  {
   "cell_type": "code",
   "execution_count": 55,
   "metadata": {
    "collapsed": true
   },
   "outputs": [],
   "source": [
    "from sklearn.naive_bayes import GaussianNB"
   ]
  },
  {
   "cell_type": "code",
   "execution_count": 58,
   "metadata": {
    "collapsed": false
   },
   "outputs": [],
   "source": [
    "gnb = GaussianNB()\n",
    "gnb_fit = gnb.fit(X_train, y_train)\n",
    "y_predict = gnb.predict(X_test)"
   ]
  },
  {
   "cell_type": "code",
   "execution_count": 67,
   "metadata": {
    "collapsed": false
   },
   "outputs": [
    {
     "name": "stdout",
     "output_type": "stream",
     "text": [
      "0.577112387203\n",
      "Gaussian Naive Bayes Train Score: 0.574041505452\n",
      "Gaussian Naive Bayes Test Score: 0.577112387203\n",
      "Confusion Matrix, No FN:\n",
      "[[  88 1186]\n",
      " [   0 1164]]\n"
     ]
    }
   ],
   "source": [
    "# GNB Results\n",
    "\n",
    "print(accuracy_score(y_test, y_predict))\n",
    "print('Gaussian Naive Bayes Train Score:', gnb.score(X_train, y_train))\n",
    "print('Gaussian Naive Bayes Test Score:', gnb.score(X_test, y_test))\n",
    "gnbprobas = gnb.predict_proba(X_test)[:, 1]\n",
    "print('Confusion Matrix, No FN:')\n",
    "print(no_false_negs_cm(y_test, gnbprobas))"
   ]
  },
  {
   "cell_type": "code",
   "execution_count": 76,
   "metadata": {
    "collapsed": false
   },
   "outputs": [
    {
     "data": {
      "image/png": "[encoded data removed]",
      "text/plain": [
       "<matplotlib.figure.Figure at 0x11a6b8128>"
      ]
     },
     "metadata": {},
     "output_type": "display_data"
    }
   ],
   "source": [
    "# ROCs\n",
    "plt.figure(figsize=(7, 7))\n",
    "# Random Forest, 93.68\n",
    "plot_roc(y_test, RCprobas)\n",
    "# Logit, 83.91\n",
    "plot_roc(y_true, lfprobas)\n",
    "# Gradient Boost, 92.12\n",
    "plot_roc(y_true, GBprobas)\n",
    "# Gaussian Naive Bayes, 80.78\n",
    "plot_roc(y_true, gnbprobas)"
   ]
  },
  {
   "cell_type": "code",
   "execution_count": 60,
   "metadata": {
    "collapsed": false
   },
   "outputs": [
    {
     "data": {
      "text/html": [
       "<div>\n",
       "<table border=\"1\" class=\"dataframe\">\n",
       "  <thead>\n",
       "    <tr style=\"text-align: right;\">\n",
       "      <th></th>\n",
       "      <th>accuracy</th>\n",
       "    </tr>\n",
       "    <tr>\n",
       "      <th>k</th>\n",
       "      <th></th>\n",
       "    </tr>\n",
       "  </thead>\n",
       "  <tbody>\n",
       "    <tr>\n",
       "      <th>4</th>\n",
       "      <td>0.813931</td>\n",
       "    </tr>\n",
       "  </tbody>\n",
       "</table>\n",
       "</div>"
      ],
      "text/plain": [
       "   accuracy\n",
       "k          \n",
       "4  0.813931"
      ]
     },
     "execution_count": 60,
     "metadata": {},
     "output_type": "execute_result"
    }
   ],
   "source": [
    "from sklearn.neighbors import KNeighborsClassifier\n",
    "# loop through many K values for KNN, calculate accuracy scores and append to list\n",
    "\n",
    "k_scores = []\n",
    "\n",
    "for k in range(1, 5):\n",
    "\n",
    "    knn = KNeighborsClassifier(n_neighbors=k)\n",
    "    scores = cross_val_score(knn, X_train, y_train, cv=3, scoring='accuracy')\n",
    "    \n",
    "    k_scores.append((k, scores.mean()))\n",
    "    \n",
    "k_scores = pd.DataFrame(k_scores, columns=['k', 'accuracy']).set_index('k')\n",
    "k_scores[k_scores.accuracy==max(k_scores.accuracy)]\n",
    "\n",
    "# k=2 is best. Accuracy score of 0.83 is not bad."
   ]
  },
  {
   "cell_type": "code",
   "execution_count": null,
   "metadata": {
    "collapsed": true
   },
   "outputs": [],
   "source": []
  }
 ],
 "metadata": {
  "kernelspec": {
   "display_name": "Python 3",
   "language": "python",
   "name": "python3"
  },
  "language_info": {
   "codemirror_mode": {
    "name": "ipython",
    "version": 3
   },
   "file_extension": ".py",
   "mimetype": "text/x-python",
   "name": "python",
   "nbconvert_exporter": "python",
   "pygments_lexer": "ipython3",
   "version": "3.6.0"
  }
 },
 "nbformat": 4,
 "nbformat_minor": 2
}
