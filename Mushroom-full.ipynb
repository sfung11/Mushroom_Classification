{
 "cells": [
  {
   "cell_type": "code",
   "execution_count": null,
   "metadata": {
    "collapsed": true
   },
   "outputs": [],
   "source": [
    "# The perfect dataset DOES EXIST!"
   ]
  },
  {
   "cell_type": "code",
   "execution_count": 1,
   "metadata": {
    "collapsed": true
   },
   "outputs": [],
   "source": [
    "import pandas as pd\n",
    "import numpy as np"
   ]
  },
  {
   "cell_type": "code",
   "execution_count": 2,
   "metadata": {
    "collapsed": true
   },
   "outputs": [],
   "source": [
    "mushroom_df = pd.read_csv('https://archive.ics.uci.edu/ml/machine-learning-databases/mushroom/agaricus-lepiota.data', header=None)"
   ]
  },
  {
   "cell_type": "code",
   "execution_count": 3,
   "metadata": {
    "collapsed": true
   },
   "outputs": [],
   "source": [
    "# class is the target variable: p=poisonous, e=edible\n",
    "mushroom_df.columns = ['class', 'cap_shape', 'cap_surface', 'cap_color', 'bruises', 'odor', 'gill_attachment',\\\n",
    "                       'gill_spacing', 'gill_size', 'gill_color', 'stalk_shape', 'stalk_root',\\\n",
    "                       'stalk_surface_above_ring', 'stalk_surface_below_ring', 'stalk_color_above_ring',\\\n",
    "                       'stalk_color_below_ring', 'veil_type', 'veil_color', 'ring_number', 'ring_type',\\\n",
    "                       'spore_print_color', 'population', 'habitat']"
   ]
  },
  {
   "cell_type": "code",
   "execution_count": 4,
   "metadata": {
    "collapsed": false
   },
   "outputs": [],
   "source": [
    "# convert values class column (this is target variable) to numerical, p=1, e=0\n",
    "mushroom_df['class'].replace(to_replace='p', value=1, inplace=True)\n",
    "mushroom_df['class'].replace(to_replace='e', value=0, inplace=True)\n",
    "mushroom_df.replace(to_replace='?', value=np.nan, inplace=True)"
   ]
  },
  {
   "cell_type": "code",
   "execution_count": 23,
   "metadata": {
    "collapsed": false
   },
   "outputs": [
    {
     "data": {
      "text/plain": [
       "0    4208\n",
       "1    3916\n",
       "Name: class, dtype: int64"
      ]
     },
     "execution_count": 23,
     "metadata": {},
     "output_type": "execute_result"
    }
   ],
   "source": [
    "mushroom_df['class'].value_counts()"
   ]
  },
  {
   "cell_type": "code",
   "execution_count": 6,
   "metadata": {
    "collapsed": false
   },
   "outputs": [
    {
     "data": {
      "text/plain": [
       "(8124, 117)"
      ]
     },
     "execution_count": 6,
     "metadata": {},
     "output_type": "execute_result"
    }
   ],
   "source": [
    "mushroom_df2 = pd.get_dummies(mushroom_df)\n",
    "mushroom_df2.shape"
   ]
  },
  {
   "cell_type": "code",
   "execution_count": 7,
   "metadata": {
    "collapsed": true
   },
   "outputs": [],
   "source": [
    "# Model training time!\n",
    "from sklearn.model_selection import train_test_split\n",
    "\n",
    "X = mushroom_df2.iloc[: , 1:]\n",
    "y = mushroom_df2.iloc[: , :1]['class']\n",
    "X_train, X_test, y_train, y_test = train_test_split(X, y, test_size=0.3, random_state=4444)"
   ]
  },
  {
   "cell_type": "code",
   "execution_count": 8,
   "metadata": {
    "collapsed": true
   },
   "outputs": [],
   "source": [
    "from sklearn.ensemble import RandomForestClassifier\n",
    "from sklearn.metrics import accuracy_score\n",
    "from sklearn.model_selection import cross_val_score\n",
    "import matplotlib.pyplot as plt\n",
    "% matplotlib inline\n",
    "from itertools import product\n",
    "from sklearn.metrics import confusion_matrix, classification_report\n",
    "from sklearn.metrics import roc_curve, roc_auc_score, average_precision_score, recall_score\n",
    "from sklearn.metrics import precision_recall_curve"
   ]
  },
  {
   "cell_type": "code",
   "execution_count": 9,
   "metadata": {
    "collapsed": true
   },
   "outputs": [],
   "source": [
    "# Try Random Forest model\n",
    "RC = RandomForestClassifier(n_estimators = 10, max_features = 4)\n",
    "RCfit = RC.fit(X_train, y_train)\n",
    "y_predict = RC.predict(X_test)"
   ]
  },
  {
   "cell_type": "code",
   "execution_count": 10,
   "metadata": {
    "collapsed": false
   },
   "outputs": [
    {
     "name": "stdout",
     "output_type": "stream",
     "text": [
      "1.0\n",
      "Random Forest Train Score=1.000\n",
      "Random Forest Test Score =1.000\n",
      "\n"
     ]
    }
   ],
   "source": [
    "print(accuracy_score(y_test, y_predict))\n",
    "RC_train = RC.score(X_train, y_train)\n",
    "RC_test = RC.score(X_test, y_test)\n",
    "print(\"Random Forest Train Score=%.3f\\nRandom Forest Test Score =%.3f\\n\" % (RC_train, RC_test))"
   ]
  },
  {
   "cell_type": "code",
   "execution_count": 11,
   "metadata": {
    "collapsed": true
   },
   "outputs": [],
   "source": [
    "# Recycled from Classification_Errors.ipynb\n",
    "\n",
    "# Generate a confusion matrix plot: \n",
    "\n",
    "def plot_confusion_matrix(cm, classes=[0, 1], title='RF confusion matrix',\n",
    "                          normalize=False,\n",
    "                          cmap=plt.cm.Blues):\n",
    "    \"\"\"\n",
    "    This function prints and plots the confusion matrix.\n",
    "    Normalization can be applied by setting `normalize=True`.\n",
    "    \"\"\"\n",
    "    plt.imshow(cm, interpolation='nearest', cmap=cmap)\n",
    "    plt.title(title)\n",
    "    plt.colorbar()\n",
    "    tick_marks = np.arange(len(classes))\n",
    "    plt.xticks(tick_marks, classes)\n",
    "    plt.yticks(tick_marks, classes)\n",
    "\n",
    "    if normalize:\n",
    "        cm = cm.astype('float') / cm.sum(axis=1)[:, np.newaxis]\n",
    "\n",
    "    thresh = cm.max() / 2.\n",
    "    for i, j in product(range(cm.shape[0]), range(cm.shape[1])):\n",
    "        plt.text(j, i, cm[i, j],\n",
    "                horizontalalignment=\"center\", size=20,\n",
    "                color=\"white\" if cm[i, j] > thresh else \"black\")\n",
    "\n",
    "    plt.ylabel('True label')\n",
    "    plt.xlabel('Predicted label')"
   ]
  },
  {
   "cell_type": "code",
   "execution_count": 12,
   "metadata": {
    "collapsed": true
   },
   "outputs": [],
   "source": [
    "def plot_roc(ytrue, yproba, title='RF ROC curve'):\n",
    "    auc = roc_auc_score(ytrue, yproba)\n",
    "    fpr, tpr, thr = roc_curve(ytrue, yproba)\n",
    "    print('TPR is:', tpr)\n",
    "    plt.plot([0, 1], [0, 1], color='k', linestyle='--', linewidth=.4)\n",
    "    plt.plot(fpr, tpr, label='auc={:.2f}%'.format(auc*100))\n",
    "    plt.axis('equal')\n",
    "    plt.xlim([-.02, 1.02])\n",
    "    plt.ylim([-.02, 1.02])\n",
    "    plt.title(title)\n",
    "    plt.legend(loc='best')\n",
    "    plt.grid(True)"
   ]
  },
  {
   "cell_type": "code",
   "execution_count": 13,
   "metadata": {
    "collapsed": true
   },
   "outputs": [],
   "source": [
    "def plot_prcurve(ytrue, yproba, title='RF Precision-Recall curve'):\n",
    "    auc = average_precision_score(ytrue, yproba)\n",
    "    precision, recall, thr = precision_recall_curve(ytrue, yproba)\n",
    "    plt.plot(recall, precision, label='auc={:.2f}%'.format(auc*100))\n",
    "    plt.axis('equal')\n",
    "    plt.xlim([-.02, 1.02])\n",
    "    plt.ylim([-.02, 1.02])\n",
    "    plt.title(title)\n",
    "    plt.legend(loc='best')\n",
    "    plt.grid(True)"
   ]
  },
  {
   "cell_type": "code",
   "execution_count": 14,
   "metadata": {
    "collapsed": true
   },
   "outputs": [],
   "source": [
    "# Recycled code, edit to ensure test_train split is only done once.\n",
    "\n",
    "def train_test(clf, x, y):\n",
    "    clf.fit(x, y)\n",
    "    # accuracy for test & train:    \n",
    "    y_pred = clf.predict(x)\n",
    "    y_proba = clf.predict_proba(x)[:, 1]\n",
    "    clf_report = classification_report(y, y_pred)\n",
    "    print(clf_report)\n",
    "    conf = confusion_matrix(y, y_pred)\n",
    "    return conf, y, y_proba"
   ]
  },
  {
   "cell_type": "code",
   "execution_count": 16,
   "metadata": {
    "collapsed": false
   },
   "outputs": [
    {
     "name": "stdout",
     "output_type": "stream",
     "text": [
      "             precision    recall  f1-score   support\n",
      "\n",
      "          0       1.00      1.00      1.00      1274\n",
      "          1       1.00      1.00      1.00      1164\n",
      "\n",
      "avg / total       1.00      1.00      1.00      2438\n",
      "\n",
      "TPR is: [ 0.99484536  0.99828179  1.          1.          1.          1.        ]\n"
     ]
    },
    {
     "data": {
      "image/png": "[encoded data removed]",
      "text/plain": [
       "<matplotlib.figure.Figure at 0x116ca7438>"
      ]
     },
     "metadata": {},
     "output_type": "display_data"
    },
    {
     "data": {
      "image/png": "[encoded data removed]",
      "text/plain": [
       "<matplotlib.figure.Figure at 0x116cb9908>"
      ]
     },
     "metadata": {},
     "output_type": "display_data"
    },
    {
     "data": {
      "image/png": "[encoded data removed]",
      "text/plain": [
       "<matplotlib.figure.Figure at 0x11a518550>"
      ]
     },
     "metadata": {},
     "output_type": "display_data"
    }
   ],
   "source": [
    "# Visuals for Random Forest model\n",
    "clf = RC\n",
    "conf, y_true, y_proba = train_test(clf, X_test, y_test)\n",
    "\n",
    "plt.figure(figsize=(7, 7))\n",
    "plot_confusion_matrix(conf)\n",
    "\n",
    "# balanced metric\n",
    "plt.figure(figsize=(7, 7))\n",
    "plot_roc(y_true, y_proba)\n",
    "\n",
    "# imbalanced metric\n",
    "# y axis is recall, x is precision\n",
    "plt.figure(figsize=(7, 7))\n",
    "plot_prcurve(y_true, y_proba)"
   ]
  },
  {
   "cell_type": "code",
   "execution_count": 17,
   "metadata": {
    "collapsed": false
   },
   "outputs": [
    {
     "data": {
      "text/plain": [
       "Index(['cap_shape_c', 'stalk_color_above_ring_y', 'population_a',\n",
       "       'stalk_color_above_ring_e', 'odor_m', 'stalk_color_above_ring_b',\n",
       "       'gill_color_y', 'veil_color_o', 'veil_color_n', 'veil_type_p',\n",
       "       ...\n",
       "       'bruises_t', 'stalk_surface_below_ring_s', 'odor_p', 'stalk_root_e',\n",
       "       'spore_print_color_k', 'bruises_f', 'population_v', 'odor_f',\n",
       "       'spore_print_color_h', 'gill_size_b'],\n",
       "      dtype='object', length=116)"
      ]
     },
     "execution_count": 17,
     "metadata": {},
     "output_type": "execute_result"
    }
   ],
   "source": [
    "X_train.columns[RC.feature_importances_.argsort()]"
   ]
  },
  {
   "cell_type": "code",
   "execution_count": 18,
   "metadata": {
    "collapsed": false
   },
   "outputs": [
    {
     "name": "stderr",
     "output_type": "stream",
     "text": [
      "/Users/macbook/anaconda/lib/python3.6/site-packages/sklearn/cross_validation.py:44: DeprecationWarning: This module was deprecated in version 0.18 in favor of the model_selection module into which all the refactored classes and functions are moved. Also note that the interface of the new CV iterators are different from that of this module. This module will be removed in 0.20.\n",
      "  \"This module will be removed in 0.20.\", DeprecationWarning)\n",
      "/Users/macbook/anaconda/lib/python3.6/site-packages/sklearn/learning_curve.py:23: DeprecationWarning: This module was deprecated in version 0.18 in favor of the model_selection module into which all the functions are moved. This module will be removed in 0.20\n",
      "  DeprecationWarning)\n"
     ]
    }
   ],
   "source": [
    "from sklearn.learning_curve import learning_curve"
   ]
  },
  {
   "cell_type": "code",
   "execution_count": 19,
   "metadata": {
    "collapsed": true
   },
   "outputs": [],
   "source": [
    "# This will give you the m, training errors and testing errors.\n",
    "lc = learning_curve(RandomForestClassifier(n_estimators = 10, max_features = 4), X, y)\n",
    "train_cv_err = np.mean(lc[1], axis=1)\n",
    "test_cv_err = np.mean(lc[2], axis=1)"
   ]
  },
  {
   "cell_type": "code",
   "execution_count": 20,
   "metadata": {
    "collapsed": false
   },
   "outputs": [
    {
     "name": "stdout",
     "output_type": "stream",
     "text": [
      "[ 541 1759 2978 4196 5415]\n",
      "[ 1.          1.          1.          1.          0.99993844]\n",
      "[ 0.51797144  0.63318562  0.79549563  0.94449165  0.9229384 ]\n"
     ]
    }
   ],
   "source": [
    "print(lc[0])\n",
    "print(train_cv_err) \n",
    "print(test_cv_err)"
   ]
  },
  {
   "cell_type": "code",
   "execution_count": 21,
   "metadata": {
    "collapsed": false
   },
   "outputs": [
    {
     "data": {
      "text/plain": [
       "(0.5, 1.1)"
      ]
     },
     "execution_count": 21,
     "metadata": {},
     "output_type": "execute_result"
    },
    {
     "data": {
      "image/png": "[encoded data removed]",
      "text/plain": [
       "<matplotlib.figure.Figure at 0x11a9a8be0>"
      ]
     },
     "metadata": {},
     "output_type": "display_data"
    }
   ],
   "source": [
    "plt.plot([541, 1759, 2978, 4196 ,5415], [1., 1., 1.,1., 0.99993844])\n",
    "plt.ylabel(\"Training Error\")\n",
    "plt.xlabel(\"m\")\n",
    "plt.suptitle('Mushroom Learning Curve: Random Forest (10 trees, max features=4)')\n",
    "plt.ylim(0.5, 1.1)"
   ]
  },
  {
   "cell_type": "code",
   "execution_count": 22,
   "metadata": {
    "collapsed": false
   },
   "outputs": [
    {
     "data": {
      "text/plain": [
       "(0.5, 1.1)"
      ]
     },
     "execution_count": 22,
     "metadata": {},
     "output_type": "execute_result"
    },
    {
     "data": {
      "image/png": "[encoded data removed]",
      "text/plain": [
       "<matplotlib.figure.Figure at 0x11aa15438>"
      ]
     },
     "metadata": {},
     "output_type": "display_data"
    }
   ],
   "source": [
    "plt.plot([541, 1759, 2978, 4196 ,5415], [0.51797144 , 0.63318562 , 0.79549563 , 0.94449165 , 0.9229384])\n",
    "plt.ylabel(\"Testing Error\")\n",
    "plt.xlabel(\"m\")\n",
    "plt.suptitle('Mushroom Learning Curve: Random Forest (10 trees, max features=4)')\n",
    "plt.ylim(0.5, 1.1)"
   ]
  },
  {
   "cell_type": "code",
   "execution_count": null,
   "metadata": {
    "collapsed": true
   },
   "outputs": [],
   "source": []
  }
 ],
 "metadata": {
  "kernelspec": {
   "display_name": "Python 3",
   "language": "python",
   "name": "python3"
  },
  "language_info": {
   "codemirror_mode": {
    "name": "ipython",
    "version": 3
   },
   "file_extension": ".py",
   "mimetype": "text/x-python",
   "name": "python",
   "nbconvert_exporter": "python",
   "pygments_lexer": "ipython3",
   "version": "3.6.0"
  }
 },
 "nbformat": 4,
 "nbformat_minor": 2
}
